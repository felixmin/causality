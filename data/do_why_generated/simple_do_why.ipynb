{
 "cells": [
  {
   "cell_type": "code",
   "execution_count": 27,
   "metadata": {},
   "outputs": [],
   "source": [
    "from dowhy import CausalModel\n",
    "import dowhy.datasets\n",
    "import matplotlib.pyplot as plt\n",
    "\n"
   ]
  },
  {
   "cell_type": "code",
   "execution_count": 28,
   "metadata": {},
   "outputs": [],
   "source": [
    "data = dowhy.datasets.linear_dataset(\n",
    "    beta=10,\n",
    "    num_common_causes=5,\n",
    "    num_instruments=2,\n",
    "    num_samples=10000)"
   ]
  },
  {
   "cell_type": "code",
   "execution_count": 47,
   "metadata": {},
   "outputs": [
    {
     "name": "stdout",
     "output_type": "stream",
     "text": [
      "dict_keys(['df', 'treatment_name', 'outcome_name', 'common_causes_names', 'instrument_names', 'effect_modifier_names', 'frontdoor_variables_names', 'dot_graph', 'gml_graph', 'ate'])\n",
      "\n",
      "df head:      Z0        Z1        W0        W1        W2        W3        W4     v0          y  propensity_score\n",
      "0  1.0  0.045129  1.309055 -0.171825  0.098760  0.017591  1.336685   True  18.414237          0.998526\n",
      "1  1.0  0.762882 -2.304766  2.328598  0.709514 -1.856505  2.204602   True  13.656093          0.972380\n",
      "2  0.0  0.097076 -1.239226 -1.637484  0.649930 -1.351825  1.043974  False  -8.020593          0.546744\n",
      "3  0.0  0.468491 -1.351227  0.052001 -1.066244 -0.224383  2.756972   True  12.646357          0.939630\n",
      "4  1.0  0.782031 -0.549211 -0.638369 -1.297788 -0.372206  1.998097   True   8.027944          0.866096\n",
      "len data:  10000\n",
      "treatment name:  ['v0']\n",
      "outcome name:  y\n",
      "common causes:  ['W0', 'W1', 'W2', 'W3', 'W4']\n",
      "instrument names:  ['Z0', 'Z1']\n",
      "effect modifier names:  []\n",
      "frontdoor variables names:  []\n",
      "dot graph:  digraph {v0->y;W0-> v0; W1-> v0; W2-> v0; W3-> v0; W4-> v0;Z0-> v0; Z1-> v0;W0-> y; W1-> y; W2-> y; W3-> y; W4-> y;}\n",
      "gml graph:  graph[directed 1node[ id \"y\" label \"y\"]node[ id \"W0\" label \"W0\"] node[ id \"W1\" label \"W1\"] node[ id \"W2\" label \"W2\"] node[ id \"W3\" label \"W3\"] node[ id \"W4\" label \"W4\"]node[ id \"Z0\" label \"Z0\"] node[ id \"Z1\" label \"Z1\"]node[ id \"v0\" label \"v0\"]edge[source \"v0\" target \"y\"]edge[ source \"W0\" target \"v0\"] edge[ source \"W1\" target \"v0\"] edge[ source \"W2\" target \"v0\"] edge[ source \"W3\" target \"v0\"] edge[ source \"W4\" target \"v0\"]edge[ source \"Z0\" target \"v0\"] edge[ source \"Z1\" target \"v0\"]edge[ source \"W0\" target \"y\"] edge[ source \"W1\" target \"y\"] edge[ source \"W2\" target \"y\"] edge[ source \"W3\" target \"y\"] edge[ source \"W4\" target \"y\"]]\n",
      "ate:  9.999836220865037\n"
     ]
    }
   ],
   "source": [
    "print(data.keys())\n",
    "print(\"\")\n",
    "print(\"df head: \", data['df'].head().to_string())\n",
    "print(\"len data: \", len(data['df']))\n",
    "print(\"treatment name: \", data['treatment_name'])\n",
    "print(\"outcome name: \", data['outcome_name'])\n",
    "print(\"common causes: \", data['common_causes_names'])\n",
    "print(\"instrument names: \", data['instrument_names'])\n",
    "print(\"effect modifier names: \", data['effect_modifier_names'])\n",
    "print(\"frontdoor variables names: \", data['frontdoor_variables_names'])\n",
    "print(\"dot graph: \", data['dot_graph'])\n",
    "print(\"gml graph: \", data['gml_graph'])\n",
    "print(\"ate: \", data['ate'])"
   ]
  },
  {
   "cell_type": "code",
   "execution_count": 30,
   "metadata": {},
   "outputs": [
    {
     "data": {
      "text/plain": [
       "Index(['Z0', 'Z1', 'W0', 'W1', 'W2', 'W3', 'W4', 'v0', 'y'], dtype='object')"
      ]
     },
     "execution_count": 30,
     "metadata": {},
     "output_type": "execute_result"
    }
   ],
   "source": [
    "df = data['df']\n",
    "df.columns"
   ]
  },
  {
   "cell_type": "code",
   "execution_count": 31,
   "metadata": {},
   "outputs": [
    {
     "data": {
      "text/plain": [
       "<matplotlib.image.AxesImage at 0x17c0e8e80>"
      ]
     },
     "execution_count": 31,
     "metadata": {},
     "output_type": "execute_result"
    },
    {
     "data": {
      "image/png": "[encoded data removed]",
      "text/plain": [
       "<Figure size 480x480 with 1 Axes>"
      ]
     },
     "metadata": {},
     "output_type": "display_data"
    }
   ],
   "source": [
    "corr = df.corr()\n",
    "plt.matshow(corr)"
   ]
  },
  {
   "cell_type": "code",
   "execution_count": 32,
   "metadata": {},
   "outputs": [],
   "source": [
    "model = CausalModel(\n",
    "    data=data[\"df\"],\n",
    "    treatment=data[\"treatment_name\"],\n",
    "    outcome=data[\"outcome_name\"],\n",
    "    graph=data[\"gml_graph\"])\n",
    "\n",
    "# Step 2: Identify causal effect and return target estimands\n",
    "identified_estimand = model.identify_effect()\n",
    "\n",
    "# Step 3: Estimate the target estimand using a statistical method.\n",
    "estimate = model.estimate_effect(identified_estimand,\n",
    "                                 method_name=\"backdoor.propensity_score_matching\")\n",
    "\n",
    "# Step 4: Refute the obtained estimate using multiple robustness checks.\n",
    "refute_results = model.refute_estimate(identified_estimand, estimate,\n",
    "                                       method_name=\"random_common_cause\")"
   ]
  }
 ],
 "metadata": {
  "kernelspec": {
   "display_name": "trading",
   "language": "python",
   "name": "python3"
  },
  "language_info": {
   "codemirror_mode": {
    "name": "ipython",
    "version": 3
   },
   "file_extension": ".py",
   "mimetype": "text/x-python",
   "name": "python",
   "nbconvert_exporter": "python",
   "pygments_lexer": "ipython3",
   "version": "3.10.13"
  }
 },
 "nbformat": 4,
 "nbformat_minor": 2
}
